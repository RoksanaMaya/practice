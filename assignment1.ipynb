{
 "cells": [
  {
   "cell_type": "markdown",
   "metadata": {},
   "source": [
    "# Print Statement - *print()*\n",
    "- *print()* used to show infromation such as variables, string, data structures on the Screen"
   ]
  },
  {
   "cell_type": "markdown",
   "metadata": {},
   "source": [
    "## Print a simple message: *Level Up with CareerTrek*"
   ]
  },
  {
   "cell_type": "code",
   "execution_count": 1,
   "metadata": {},
   "outputs": [
    {
     "name": "stdout",
     "output_type": "stream",
     "text": [
      "Level Up with CareerTrek\n"
     ]
    }
   ],
   "source": [
    "# code here\n",
    "print (\"Level Up with CareerTrek\")"
   ]
  },
  {
   "cell_type": "markdown",
   "metadata": {},
   "source": [
    "## Print the result of a mathematical expression: *x+y*"
   ]
  },
  {
   "cell_type": "code",
   "execution_count": 2,
   "metadata": {},
   "outputs": [
    {
     "name": "stdout",
     "output_type": "stream",
     "text": [
      "15\n"
     ]
    }
   ],
   "source": [
    "x = 5\n",
    "y = 10\n",
    "\n",
    "# code here\n",
    "print(x+y)"
   ]
  },
  {
   "cell_type": "markdown",
   "metadata": {},
   "source": [
    "## Print a pattern using multiple print statements:"
   ]
  },
  {
   "cell_type": "code",
   "execution_count": 6,
   "metadata": {},
   "outputs": [
    {
     "name": "stdout",
     "output_type": "stream",
     "text": [
      "    *\n",
      "   ***\n",
      "  *****\n",
      " *******\n",
      "*********\n",
      " *******\n",
      "  *****\n",
      "   ***\n",
      "    *\n"
     ]
    }
   ],
   "source": [
    "#     *\n",
    "#   *****\n",
    "#  *******\n",
    "#   *****\n",
    "#     *\n",
    "\n",
    "# code here\n",
    "n_rows=int(input(\"Enter the number of rows : \"))\n",
    "for i in range (1, n_rows+1,1):\n",
    "    spaces=\" \"*(n_rows -i)\n",
    "    stars=\"*\"*(2*i-1)\n",
    "    print(spaces+stars)\n",
    "for i in range (n_rows-1,0,-1):\n",
    "    spaces=\" \"*(n_rows -i)\n",
    "    stars=\"*\"*(2*i-1)\n",
    "    print(spaces+stars)"
   ]
  },
  {
   "cell_type": "code",
   "execution_count": 5,
   "metadata": {},
   "outputs": [
    {
     "name": "stdout",
     "output_type": "stream",
     "text": [
      "    *\n",
      "  *****\n",
      "*********\n",
      "  *****\n",
      "    *\n"
     ]
    }
   ],
   "source": [
    "#     *\n",
    "#   *****\n",
    "#  *******\n",
    "#   *****\n",
    "#     *\n",
    "\n",
    "# code here\n",
    "n_rows=int(input(\"Enter the number of rows : \"))\n",
    "for i in range (1, n_rows+1,2):\n",
    "    spaces=\" \"*(n_rows -i)\n",
    "    stars=\"*\"*(2*i-1)\n",
    "    print(spaces+stars)\n",
    "for i in range (n_rows-2,0,-2):\n",
    "    spaces=\" \"*(n_rows -i)\n",
    "    stars=\"*\"*(2*i-1)\n",
    "    print(spaces+stars)"
   ]
  },
  {
   "cell_type": "markdown",
   "metadata": {},
   "source": [
    "# Variable\n",
    "- *a variable is a named location in the computer's memory where you can store a value. It is used to store data that can be accessed and manipulated throughout the program*"
   ]
  },
  {
   "cell_type": "markdown",
   "metadata": {},
   "source": [
    "## Create a variable \n",
    "- _\"orgName\"_ and assign _\"CareerTrek\"_"
   ]
  },
  {
   "cell_type": "code",
   "execution_count": 8,
   "metadata": {},
   "outputs": [
    {
     "data": {
      "text/plain": [
       "'CareerTrek'"
      ]
     },
     "execution_count": 8,
     "metadata": {},
     "output_type": "execute_result"
    }
   ],
   "source": [
    "# code here\n",
    "orgName=\"CareerTrek\"\n",
    "orgName\n"
   ]
  },
  {
   "cell_type": "markdown",
   "metadata": {},
   "source": [
    "## Create a Variables -\n",
    "-  store image shape - *height, width, channels* \n",
    "- and assign *1280, 780, 3*"
   ]
  },
  {
   "cell_type": "code",
   "execution_count": null,
   "metadata": {},
   "outputs": [],
   "source": [
    "# codee here\n",
    "height=1280\n",
    "width=780\n",
    "channels=3\n"
   ]
  },
  {
   "cell_type": "markdown",
   "metadata": {},
   "source": [
    "## Create variable\n",
    "- named _\"pi\"_ and assign _\"3.14159\"_"
   ]
  },
  {
   "cell_type": "code",
   "execution_count": null,
   "metadata": {},
   "outputs": [],
   "source": [
    "# code here\n",
    "pi=3.14159"
   ]
  },
  {
   "cell_type": "markdown",
   "metadata": {},
   "source": [
    "# Data Types and Conversion\n",
    "- refers to the type of data we want stor and work on.\n",
    "- such as int, float, string, complex, boolean\n",
    "- Conversion - one data type to another data type\n"
   ]
  },
  {
   "cell_type": "markdown",
   "metadata": {},
   "source": [
    "## Create variables to store \n",
    "- Person's information **_\"name is Tessa Young\", \"age is 24\", \"height is 176.56\", \"is employed or not\"_**"
   ]
  },
  {
   "cell_type": "code",
   "execution_count": null,
   "metadata": {},
   "outputs": [],
   "source": [
    "# code here - hint 4 variables you have to create and assign\n",
    "name=\"Tessa Young\"\n",
    "age = 24\n",
    "height = 176.56\n",
    "is_employed = True"
   ]
  },
  {
   "cell_type": "markdown",
   "metadata": {},
   "source": [
    "## Convert below variable\n",
    "-  **_\"num\"_** into **_\"integer type\"_** and **_\"floating number\"_** "
   ]
  },
  {
   "cell_type": "code",
   "execution_count": 12,
   "metadata": {},
   "outputs": [
    {
     "data": {
      "text/plain": [
       "23"
      ]
     },
     "execution_count": 12,
     "metadata": {},
     "output_type": "execute_result"
    }
   ],
   "source": [
    "num = \"23.456\"\n",
    "\n",
    "# code here\n",
    "num_float = float(num)\n",
    "num_int=int(num_float)\n",
    "num_float\n",
    "num_int"
   ]
  },
  {
   "cell_type": "markdown",
   "metadata": {},
   "source": [
    "## Convert integer type to string\n",
    "- _\"pi=3.14159\"_ to string"
   ]
  },
  {
   "cell_type": "code",
   "execution_count": 16,
   "metadata": {},
   "outputs": [
    {
     "data": {
      "text/plain": [
       "str"
      ]
     },
     "execution_count": 16,
     "metadata": {},
     "output_type": "execute_result"
    }
   ],
   "source": [
    "#code here\n",
    "pi=3.14159\n",
    "pi_string =str(pi)\n",
    "type(pi_string)"
   ]
  },
  {
   "cell_type": "markdown",
   "metadata": {},
   "source": [
    "# Operators\n",
    "- *An operator is a symbol that represents a specific operation to be performed on one or more operands (values or variables).*\n",
    "- *Allows you to perform various computations, comparisons, and manipulations on different types of data.*"
   ]
  },
  {
   "cell_type": "markdown",
   "metadata": {},
   "source": [
    "## Perform Below operation on - *x and y*\n",
    "- Addition - assign to  **_\"summ\"_** variable\n",
    "- Subtraction - assign to  **_\"difference\"_** variable\n",
    "- Multiplication - assign to  **_\"mul\"_** variable\n",
    "- Division - assign to  **_\"div\"_** variable\n",
    "- Remainder - assign to  **_\"remainder\"_** variable"
   ]
  },
  {
   "cell_type": "code",
   "execution_count": 17,
   "metadata": {},
   "outputs": [
    {
     "data": {
      "text/plain": [
       "(14, 6, 40, 2.5, 2)"
      ]
     },
     "execution_count": 17,
     "metadata": {},
     "output_type": "execute_result"
    }
   ],
   "source": [
    "x = 10\n",
    "y = 4\n",
    "\n",
    "# code here\n",
    "sum=x+y\n",
    "difference=x-y\n",
    "mul=x*y\n",
    "div=x/y\n",
    "remainder=x%y\n",
    "sum, difference, mul,div,remainder\n"
   ]
  },
  {
   "cell_type": "markdown",
   "metadata": {},
   "source": [
    "## Compute below equation on ***m, x and c***\n",
    "- y = mx + c"
   ]
  },
  {
   "cell_type": "code",
   "execution_count": 18,
   "metadata": {},
   "outputs": [
    {
     "name": "stdout",
     "output_type": "stream",
     "text": [
      "39.3\n"
     ]
    }
   ],
   "source": [
    "m = 0.14\n",
    "x = 45\n",
    "c = 33\n",
    "\n",
    "#code here\n",
    "y=(m*x)+c\n",
    "print(y)"
   ]
  },
  {
   "cell_type": "markdown",
   "metadata": {},
   "source": [
    "## Compare **_\"x and y\"_**\n",
    "- Assign result of equality comparison to variable **_\"eq\"_**\n",
    "- Assign result of _\"is x greater than y\"_ comparison to variable **_\"gt\"_**\n",
    "- Assign result of _\"is x less than y\"_ comparison to variable **_\"lt\"_**\n",
    "- Assign result of _\"is x not equals to y\"_ comparison to variable **_\"neq\"_**"
   ]
  },
  {
   "cell_type": "code",
   "execution_count": 19,
   "metadata": {},
   "outputs": [
    {
     "name": "stdout",
     "output_type": "stream",
     "text": [
      "Not Equal\n",
      "Less\n"
     ]
    }
   ],
   "source": [
    "# code here\n",
    "x=10\n",
    "y=12\n",
    "if x==y:\n",
    "    print (\"Equal\")\n",
    "if x!=y:\n",
    "    print (\"Not Equal\")\n",
    "if x>y:\n",
    "    print (\"Greater\")\n",
    "if x<y:\n",
    "    print (\"Less\")\n"
   ]
  },
  {
   "cell_type": "markdown",
   "metadata": {},
   "source": [
    "## use Bitwise operator to compare **_\"x and y\"_**\n",
    "- result can be 0 or 1 - 1 means equal and 0 not equal"
   ]
  },
  {
   "cell_type": "code",
   "execution_count": 12,
   "metadata": {},
   "outputs": [
    {
     "data": {
      "text/plain": [
       "0"
      ]
     },
     "execution_count": 12,
     "metadata": {},
     "output_type": "execute_result"
    }
   ],
   "source": [
    "x = 3\n",
    "y = 33\n",
    "\n",
    "# complete code below\n",
    "result =int(x==y)\n",
    "result"
   ]
  },
  {
   "cell_type": "markdown",
   "metadata": {},
   "source": [
    "## Check whether \n",
    "- a alphabet **_\"alpha\"_** is present in a given string **_\"orgName\"_** or not"
   ]
  },
  {
   "cell_type": "code",
   "execution_count": 11,
   "metadata": {},
   "outputs": [
    {
     "name": "stdout",
     "output_type": "stream",
     "text": [
      "Yes, e  is in orgname\n"
     ]
    }
   ],
   "source": [
    "orgName = \"Career Trek Academy\"\n",
    "alpha = \"e\"\n",
    "count=0\n",
    "# code here\n",
    "for c in orgName:\n",
    "    if c==alpha:\n",
    "        print(\"Yes,\", alpha,\" is in orgname\")     \n",
    "        break         \n",
    "\n",
    "\n"
   ]
  },
  {
   "cell_type": "markdown",
   "metadata": {},
   "source": [
    "Sorting"
   ]
  },
  {
   "cell_type": "code",
   "execution_count": 43,
   "metadata": {},
   "outputs": [
    {
     "data": {
      "text/plain": [
       "'  ACTaacdeeeekmrrry'"
      ]
     },
     "execution_count": 43,
     "metadata": {},
     "output_type": "execute_result"
    }
   ],
   "source": [
    "orgName = \"Career Trek Academy\"\n",
    "dic={}\n",
    "count=0\n",
    "# sorting\n",
    "sorted(orgName)\n",
    "\n",
    "#for sorting without using comma\n",
    "for i in orgName:\n",
    "    sort=\"\".join(sorted(orgName))\n",
    "sort\n",
    "\n",
    "\n"
   ]
  },
  {
   "cell_type": "markdown",
   "metadata": {},
   "source": [
    "## Check whether\n",
    "- ***x and y is Positive or not***"
   ]
  },
  {
   "cell_type": "code",
   "execution_count": 44,
   "metadata": {},
   "outputs": [
    {
     "name": "stdout",
     "output_type": "stream",
     "text": [
      "-33 is Negetive\n",
      "12 is positive\n"
     ]
    }
   ],
   "source": [
    "x = -33\n",
    "y = 12\n",
    "\n",
    "# code here\n",
    "\n",
    "if x>0:\n",
    "    print( x,\"is positive\")\n",
    "else:\n",
    "    print( x,\"is Negetive\")\n",
    "if y>0:\n",
    "    print( y,\"is positive\")\n",
    "else:\n",
    "    print( y,\"is Negetive\")"
   ]
  },
  {
   "cell_type": "markdown",
   "metadata": {},
   "source": [
    "## Increament and Decreament\n",
    "- Increase the value of **_\"x by 3\"_**\n",
    "- Decrease the values of **_\"y by 4\"_**"
   ]
  },
  {
   "cell_type": "code",
   "execution_count": 45,
   "metadata": {},
   "outputs": [
    {
     "name": "stdout",
     "output_type": "stream",
     "text": [
      "16 20\n"
     ]
    }
   ],
   "source": [
    "x = 13\n",
    "y = 16\n",
    "\n",
    "# code here\n",
    "x=x+3\n",
    "y=y+4\n",
    "\n",
    "print(x, y)"
   ]
  },
  {
   "cell_type": "code",
   "execution_count": null,
   "metadata": {},
   "outputs": [],
   "source": []
  }
 ],
 "metadata": {
  "kernelspec": {
   "display_name": "Python 3 (ipykernel)",
   "language": "python",
   "name": "python3"
  },
  "language_info": {
   "codemirror_mode": {
    "name": "ipython",
    "version": 3
   },
   "file_extension": ".py",
   "mimetype": "text/x-python",
   "name": "python",
   "nbconvert_exporter": "python",
   "pygments_lexer": "ipython3",
   "version": "3.10.6"
  },
  "toc": {
   "base_numbering": 1,
   "nav_menu": {},
   "number_sections": true,
   "sideBar": true,
   "skip_h1_title": false,
   "title_cell": "Table of Contents",
   "title_sidebar": "Contents",
   "toc_cell": false,
   "toc_position": {},
   "toc_section_display": true,
   "toc_window_display": true
  }
 },
 "nbformat": 4,
 "nbformat_minor": 2
}
