{
 "cells": [
  {
   "cell_type": "markdown",
   "id": "b6a80123",
   "metadata": {},
   "source": [
    "# String\n",
    "- _A string is a data type used in programming, that is used to represent text rather than numbers. A string is a sequence of characters and can contain letters, numbers, symbols and even spaces. It must be enclosed in quotation marks for it to be recognized as a string._\n",
    "\n",
    "- _For example, the word **\"liquid\"** and the phrase **\"What is liquid? It’s a template language.\"** are both strings. Even the sequence of characters **'98OkJJ$%janUJ£'** is considered a string._"
   ]
  },
  {
   "cell_type": "markdown",
   "id": "003f4c12",
   "metadata": {},
   "source": [
    "## Concatenate two strings\n",
    "- Assign to result variable\n",
    "- print the result\n"
   ]
  },
  {
   "cell_type": "code",
   "execution_count": 3,
   "id": "db94ce4f",
   "metadata": {},
   "outputs": [
    {
     "name": "stdout",
     "output_type": "stream",
     "text": [
      "Career Trek\n"
     ]
    }
   ],
   "source": [
    "string1 = \"Career\"\n",
    "string2 = \"Trek\"\n",
    "\n",
    "# code here\n",
    "result=string1+\" \"+string2\n",
    "print(result)\n"
   ]
  },
  {
   "cell_type": "markdown",
   "id": "65cd6591",
   "metadata": {},
   "source": [
    "## Print the length of a string\n",
    "- \"CareerTrek Academy\""
   ]
  },
  {
   "cell_type": "code",
   "execution_count": 4,
   "id": "1e278598",
   "metadata": {},
   "outputs": [
    {
     "name": "stdout",
     "output_type": "stream",
     "text": [
      "18\n"
     ]
    }
   ],
   "source": [
    "string = \"CareerTrek Academy\"\n",
    "\n",
    "# code here\n",
    "length =len(string) \n",
    "\n",
    "print(length)"
   ]
  },
  {
   "cell_type": "markdown",
   "id": "b3fa5c7b",
   "metadata": {},
   "source": [
    "## Print the \"Trek\" from below string:\n",
    "- string = \"CareerTrek Academy\"\n"
   ]
  },
  {
   "cell_type": "code",
   "execution_count": 6,
   "id": "68c94a05",
   "metadata": {},
   "outputs": [
    {
     "data": {
      "text/plain": [
       "'Trek '"
      ]
     },
     "execution_count": 6,
     "metadata": {},
     "output_type": "execute_result"
    }
   ],
   "source": [
    "string = \"CareerTrek Academy\"\n",
    "\n",
    "# code here\n",
    "trek=string[6:11]\n",
    "trek\n",
    "\n"
   ]
  },
  {
   "cell_type": "markdown",
   "id": "3d9506d9",
   "metadata": {},
   "source": [
    "## Print string information formatted as:\n",
    "- My name is Alice and I'm 25 years old."
   ]
  },
  {
   "cell_type": "code",
   "execution_count": 10,
   "id": "1e4e82e1",
   "metadata": {},
   "outputs": [
    {
     "name": "stdout",
     "output_type": "stream",
     "text": [
      "My name is  Alice and I'm  25  years old.\n"
     ]
    }
   ],
   "source": [
    "name = \"Alice\"\n",
    "age = 25\n",
    "\n",
    "# code here\n",
    "print(\"My name is \",name,\"and I'm \", age, \" years old.\")\n"
   ]
  },
  {
   "cell_type": "markdown",
   "id": "9e484949",
   "metadata": {},
   "source": [
    "## Extract username and domain:\n",
    "- email = carrertrek@gmail.com\n",
    "- output: Username is careertrek and domain is gmail.com"
   ]
  },
  {
   "cell_type": "code",
   "execution_count": 12,
   "id": "ed36d26b",
   "metadata": {},
   "outputs": [
    {
     "name": "stdout",
     "output_type": "stream",
     "text": [
      "Username :  carrertrek Domain :  gmail.com\n"
     ]
    }
   ],
   "source": [
    "email = \"carrertrek@gmail.com\"\n",
    "\n",
    "# code here\n",
    "username, domain=email.split('@')\n",
    "print(\"Username : \",username,\"Domain : \", domain)\n"
   ]
  },
  {
   "cell_type": "markdown",
   "id": "1ace3008",
   "metadata": {},
   "source": [
    "## Replace \"@\" to \"#\" :\n",
    "- email = carrertrek@gmail.com\n",
    "- output: carrertrek#gmail.com"
   ]
  },
  {
   "cell_type": "code",
   "execution_count": 14,
   "id": "aa0b6440",
   "metadata": {},
   "outputs": [
    {
     "data": {
      "text/plain": [
       "'carrertrek#gmail.com'"
      ]
     },
     "execution_count": 14,
     "metadata": {},
     "output_type": "execute_result"
    }
   ],
   "source": [
    "email.replace('@','#')"
   ]
  },
  {
   "cell_type": "markdown",
   "id": "5c01c944",
   "metadata": {},
   "source": [
    "# Built-in Data structures"
   ]
  },
  {
   "cell_type": "markdown",
   "id": "3c434178",
   "metadata": {},
   "source": [
    "## Task on List\n",
    "**_Lists are ordered collections of items, which can be of any type. They are mutable, meaning their elements can be modified. Lists are created using square brackets [] and can be accessed and manipulated using various methods and indexing._**\n",
    "- Create a list of your 5 favorite movies\n",
    "- print the third movie in the list."
   ]
  },
  {
   "cell_type": "code",
   "execution_count": 15,
   "id": "0322dffb",
   "metadata": {},
   "outputs": [
    {
     "name": "stdout",
     "output_type": "stream",
     "text": [
      "XYZ\n"
     ]
    }
   ],
   "source": [
    "# code here\n",
    "m_list=[\"Damal\", \"Transformerr\", \"XYZ\", \"X-Men\", \"abc\"]\n",
    "print(m_list[2])"
   ]
  },
  {
   "cell_type": "code",
   "execution_count": null,
   "id": "32f56b1d",
   "metadata": {},
   "outputs": [],
   "source": [
    "# code here\n"
   ]
  },
  {
   "cell_type": "markdown",
   "id": "3ba405b4",
   "metadata": {},
   "source": [
    "## Task on Tuple - \n",
    "**_Tuples are similar to lists but are immutable, meaning their elements cannot be changed after creation. Tuples are created using parentheses () and can be accessed using indexing._**\n",
    "- Create a tuple of 7 countries you would like to visit.\n",
    "- print countries in Odd index in the tuple."
   ]
  },
  {
   "cell_type": "code",
   "execution_count": 1,
   "id": "e2abb651",
   "metadata": {},
   "outputs": [
    {
     "name": "stdout",
     "output_type": "stream",
     "text": [
      "Switzerland\n",
      "France\n",
      "Turkey\n",
      "Sweden\n"
     ]
    }
   ],
   "source": [
    "# code here\n",
    "countries=(\"Switzerland\", \"Greece\", \"France\", \"India\", \"Turkey\", \"Finland\", \"Sweden\")\n",
    "for i in range(len(countries)):\n",
    "    if i%2 ==0:\n",
    "        print(countries[i])"
   ]
  },
  {
   "cell_type": "code",
   "execution_count": null,
   "id": "80a409eb",
   "metadata": {},
   "outputs": [],
   "source": [
    "# code here\n"
   ]
  },
  {
   "cell_type": "markdown",
   "id": "7466f7d2",
   "metadata": {},
   "source": [
    "## Task on Set\n",
    "**_Sets are unordered collections of unique elements. They do not allow duplicate values. Sets are created using curly braces {} or the set() constructor. They support various set operations like union, intersection, and difference._**\n",
    "- Compute intersection, difference, union between set1 and set 2\n",
    "- Merge set3 into set1 and print result"
   ]
  },
  {
   "cell_type": "code",
   "execution_count": 20,
   "id": "f0064a90",
   "metadata": {},
   "outputs": [
    {
     "name": "stdout",
     "output_type": "stream",
     "text": [
      "Intersection :  {2, 3, 4}\n",
      "Difference :  {1, 5}\n",
      "Union :  {1, 2, 3, 4, 5, 6, 8}\n"
     ]
    }
   ],
   "source": [
    "# code here\n",
    "set1 = {2, 3, 1, 4, 5}\n",
    "set2 = {4, 2, 3, 6, 8}\n",
    "intersection=set1.intersection(set2)\n",
    "difference=set1.difference(set2)\n",
    "union=set1.union(set2)\n",
    "print(\"Intersection : \",intersection)\n",
    "print(\"Difference : \",difference)\n",
    "print(\"Union : \",union)\n"
   ]
  },
  {
   "cell_type": "code",
   "execution_count": 5,
   "id": "f965490f",
   "metadata": {},
   "outputs": [
    {
     "data": {
      "text/plain": [
       "{1, 2, 3, 4, 5, 77, 88, 99}"
      ]
     },
     "execution_count": 5,
     "metadata": {},
     "output_type": "execute_result"
    }
   ],
   "source": [
    "# code here\n",
    "set3 = {99, 88, 77}\n",
    "set1.update(set3)\n",
    "set1\n",
    "\n"
   ]
  },
  {
   "cell_type": "markdown",
   "id": "a5f0336e",
   "metadata": {},
   "source": [
    "## Task on Dictionary\n",
    "**_Dictionaries are key-value pairs, where each value is associated with a unique key. They are unordered and mutable. Dictionaries are created using curly braces {} and key-value pairs separated by colons (:). The values can be accessed and modified using their corresponding keys._**\n",
    "- 1. Create a dictionary representing a person with keys like _\"name\"_, _\"age\"_, _\"city\"_, and _\"pin\"_.\n",
    "- 2. Print City of the person\n",
    "- 3. Update age of the person by 5 years\n",
    "- 4. Add a new key, value to store multiple hobbies\n",
    "- 5. Print out the third hobby of person"
   ]
  },
  {
   "cell_type": "code",
   "execution_count": 12,
   "id": "97d76c5b",
   "metadata": {},
   "outputs": [
    {
     "data": {
      "text/plain": [
       "{'name': 'ABC', 'age': 23, 'city': 'Dhaka', 'pin': '1234'}"
      ]
     },
     "execution_count": 12,
     "metadata": {},
     "output_type": "execute_result"
    }
   ],
   "source": [
    "# code here\n",
    "# Answer 1\n",
    "dictionary={\"name\": \"ABC\", \"age\" :23, \"city\": \"Dhaka\", \"pin\" : \"1234\"}\n",
    "dictionary"
   ]
  },
  {
   "cell_type": "code",
   "execution_count": 8,
   "id": "8d0b5a77",
   "metadata": {},
   "outputs": [
    {
     "name": "stdout",
     "output_type": "stream",
     "text": [
      "Dhaka\n"
     ]
    }
   ],
   "source": [
    "# code here\n",
    "# Answer 2\n",
    "print(dictionary['city'])\n"
   ]
  },
  {
   "cell_type": "code",
   "execution_count": 14,
   "id": "9cb22aa7",
   "metadata": {},
   "outputs": [
    {
     "name": "stdout",
     "output_type": "stream",
     "text": [
      "28\n"
     ]
    }
   ],
   "source": [
    "# code here\n",
    "# Answer 3\n",
    "dictionary['age']+= 5\n",
    "print(dictionary['age'])\n"
   ]
  },
  {
   "cell_type": "code",
   "execution_count": 15,
   "id": "e260ec2a",
   "metadata": {},
   "outputs": [
    {
     "data": {
      "text/plain": [
       "{'name': 'ABC',\n",
       " 'age': 28,\n",
       " 'city': 'Dhaka',\n",
       " 'pin': '1234',\n",
       " 'hobbies': ('Reading books', 'watching Movies', 'Gardening')}"
      ]
     },
     "execution_count": 15,
     "metadata": {},
     "output_type": "execute_result"
    }
   ],
   "source": [
    "# code here\n",
    "# Answer 3   : - 4. Add a new key, value to store multiple hobbies\n",
    "dictionary['hobbies']=\"Reading books\", \"watching Movies\", \"Gardening\"\n",
    "dictionary\n"
   ]
  },
  {
   "cell_type": "code",
   "execution_count": 19,
   "id": "52a88bc9",
   "metadata": {},
   "outputs": [
    {
     "name": "stdout",
     "output_type": "stream",
     "text": [
      "Gardening\n"
     ]
    }
   ],
   "source": [
    "# code here\n",
    "print(dictionary['hobbies'][2])\n"
   ]
  },
  {
   "cell_type": "code",
   "execution_count": null,
   "id": "cf1fd5d0",
   "metadata": {},
   "outputs": [],
   "source": [
    "# happy learning"
   ]
  }
 ],
 "metadata": {
  "kernelspec": {
   "display_name": "Python 3 (ipykernel)",
   "language": "python",
   "name": "python3"
  },
  "language_info": {
   "codemirror_mode": {
    "name": "ipython",
    "version": 3
   },
   "file_extension": ".py",
   "mimetype": "text/x-python",
   "name": "python",
   "nbconvert_exporter": "python",
   "pygments_lexer": "ipython3",
   "version": "3.10.6"
  },
  "toc": {
   "base_numbering": 1,
   "nav_menu": {},
   "number_sections": true,
   "sideBar": true,
   "skip_h1_title": false,
   "title_cell": "Table of Contents",
   "title_sidebar": "Contents",
   "toc_cell": false,
   "toc_position": {},
   "toc_section_display": true,
   "toc_window_display": false
  }
 },
 "nbformat": 4,
 "nbformat_minor": 5
}
