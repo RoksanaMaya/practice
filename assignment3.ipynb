{
 "cells": [
  {
   "cell_type": "markdown",
   "id": "ad759a82",
   "metadata": {},
   "source": [
    "# Task on _input() and map()_\n"
   ]
  },
  {
   "cell_type": "markdown",
   "id": "47cce3a7",
   "metadata": {},
   "source": [
    "## Compute Average\n",
    "- Get two numbers as input from the user\n",
    "- calculate their average\n",
    "- store result and print the result:"
   ]
  },
  {
   "cell_type": "code",
   "execution_count": 3,
   "id": "b8f30019",
   "metadata": {},
   "outputs": [
    {
     "data": {
      "text/plain": [
       "23.0"
      ]
     },
     "execution_count": 3,
     "metadata": {},
     "output_type": "execute_result"
    }
   ],
   "source": [
    "# code here\n",
    "def avg(x,y):\n",
    "    average=(x+y)/2\n",
    "    return average\n",
    "x=int(input(\"Enter the first number : \"))\n",
    "y=int(input(\"Enter the second number : \"))\n",
    "\n",
    "avg(x,y)\n"
   ]
  },
  {
   "cell_type": "markdown",
   "id": "94668586",
   "metadata": {},
   "source": [
    "## Extract Last Digit of a given number"
   ]
  },
  {
   "cell_type": "code",
   "execution_count": 3,
   "id": "9faeaf01",
   "metadata": {},
   "outputs": [
    {
     "name": "stdout",
     "output_type": "stream",
     "text": [
      "1\n"
     ]
    }
   ],
   "source": [
    "num = 121\n",
    "\n",
    "# code here\n",
    "digit=num%10\n",
    "\n",
    "print(digit)"
   ]
  },
  {
   "cell_type": "markdown",
   "id": "669682b4",
   "metadata": {},
   "source": [
    "## Extract First Digit of a given number"
   ]
  },
  {
   "cell_type": "code",
   "execution_count": 4,
   "id": "8ffbc797",
   "metadata": {},
   "outputs": [
    {
     "name": "stdout",
     "output_type": "stream",
     "text": [
      "1\n"
     ]
    }
   ],
   "source": [
    "num = -121\n",
    "\n",
    "# code here\n",
    "f_digit=str(abs(num))\n",
    "digit=f_digit[0]\n",
    "\n",
    "print(digit)"
   ]
  },
  {
   "cell_type": "markdown",
   "id": "cc488058",
   "metadata": {},
   "source": [
    "## Take input a sequence of numbers\n",
    "- take sequence of numbers as input\n",
    "- input: 1 2 3 4 5\n",
    "- output: [1,2,3,4,5]\n",
    "- numbers should be in integer type"
   ]
  },
  {
   "cell_type": "code",
   "execution_count": 9,
   "id": "bd516485",
   "metadata": {},
   "outputs": [
    {
     "name": "stdout",
     "output_type": "stream",
     "text": [
      "[1, 2, 3, 4, 5]\n"
     ]
    }
   ],
   "source": [
    "# code here\n",
    "num=input(\"Enter a sequence of numbers : \")\n",
    "numbers=[]\n",
    "for i in num:\n",
    "    numbers.append(int(i))\n",
    "print(numbers)"
   ]
  },
  {
   "cell_type": "markdown",
   "id": "19472254",
   "metadata": {},
   "source": [
    "## Count Length of Words\n",
    "- Compute length of each word and keep them in a list\n",
    "- input: Mango, Apple, Python, Cherry, Java\n",
    "- output: [5, 5, 6, 6, 4]"
   ]
  },
  {
   "cell_type": "code",
   "execution_count": 2,
   "id": "18e8f184",
   "metadata": {},
   "outputs": [
    {
     "data": {
      "text/plain": [
       "[5, 5, 6, 6, 4]"
      ]
     },
     "execution_count": 2,
     "metadata": {},
     "output_type": "execute_result"
    }
   ],
   "source": [
    "# code here\n",
    "l_fruits=['Mango', 'Apple', 'Python', 'Cherry', 'Java']\n",
    "\n",
    "n_list=[]\n",
    "for word in l_fruits:\n",
    "    count=0\n",
    "    for c in word:\n",
    "        count=count+1\n",
    "    n_list.append(count)\n",
    "n_list\n",
    "\n"
   ]
  },
  {
   "cell_type": "code",
   "execution_count": null,
   "id": "4f64dfd7",
   "metadata": {},
   "outputs": [],
   "source": []
  },
  {
   "cell_type": "markdown",
   "id": "d4a188b3",
   "metadata": {},
   "source": [
    "# Task on if-elif-else"
   ]
  },
  {
   "cell_type": "markdown",
   "id": "679cf68c",
   "metadata": {},
   "source": [
    "## Find Largest Number"
   ]
  },
  {
   "cell_type": "code",
   "execution_count": 4,
   "id": "c19c2aaa",
   "metadata": {},
   "outputs": [
    {
     "name": "stdout",
     "output_type": "stream",
     "text": [
      "12.0\n"
     ]
    }
   ],
   "source": [
    "num1 = float(input(\"Enter the first number: \"))\n",
    "num2 = float(input(\"Enter the second number: \"))\n",
    "num3 = float(input(\"Enter the third number: \"))\n",
    "\n",
    "# code here\n",
    "if num1>num2 and num1>num3:\n",
    "    largest=num1\n",
    "elif num2>num1 and num2>num3:\n",
    "    largest=num2\n",
    "else:\n",
    "    largest=num3\n",
    "print(largest)"
   ]
  },
  {
   "cell_type": "markdown",
   "id": "49892ebb",
   "metadata": {},
   "source": [
    "## Check whether a given alphabet vowel or consonent or not a alphabet\n",
    "- input: a  | output: vowel\n",
    "- input: x  | output: consonent\n",
    "- input: @  | output: not a alphabet"
   ]
  },
  {
   "cell_type": "code",
   "execution_count": 23,
   "id": "5b4b80cc",
   "metadata": {},
   "outputs": [
    {
     "name": "stdout",
     "output_type": "stream",
     "text": [
      "a is a vowel.\n"
     ]
    }
   ],
   "source": [
    "# code here \n",
    "take_input=input(\"Enter any charecter : \")\n",
    "char=take_input.lower()\n",
    "vowels='aeiou'\n",
    "if not char.isalpha:\n",
    "    print(char,'Not in the alphabet')\n",
    "if  char in vowels:\n",
    "    print (char,\"is a vowel.\")\n",
    "else:\n",
    "    print (char,'is a consonent')        \n"
   ]
  },
  {
   "cell_type": "markdown",
   "id": "86d64c77",
   "metadata": {},
   "source": [
    "## ATM Withdrawal\n",
    "- _Person can only withdraw if the amount is lss than the account balance._\n",
    "- _Person can only withdraw only when enters valid **pin**_\n"
   ]
  },
  {
   "cell_type": "code",
   "execution_count": 26,
   "id": "e2542a6e",
   "metadata": {},
   "outputs": [
    {
     "name": "stdout",
     "output_type": "stream",
     "text": [
      "Don't have sufficient balance to withdraw\n"
     ]
    }
   ],
   "source": [
    "account_balance = 80000\n",
    "pin = \"8679\"\n",
    "amount = float(input(\"Amount: \"))\n",
    "if amount<account_balance:\n",
    "    input_pin=input(\"Enter your pin : \")\n",
    "    if input_pin==pin:\n",
    "        print(\" Withdrawn is successful\")\n",
    "    else:\n",
    "        print('Invalid pin!!! Please try again.')\n",
    "else:\n",
    "    print(\"Don't have sufficient balance to withdraw\")\n",
    "\n",
    "\n",
    "# code here\n",
    "\n"
   ]
  },
  {
   "cell_type": "code",
   "execution_count": null,
   "id": "fcbaec3b",
   "metadata": {},
   "outputs": [],
   "source": []
  },
  {
   "cell_type": "code",
   "execution_count": null,
   "id": "772ca460",
   "metadata": {},
   "outputs": [],
   "source": []
  }
 ],
 "metadata": {
  "kernelspec": {
   "display_name": "Python 3 (ipykernel)",
   "language": "python",
   "name": "python3"
  },
  "language_info": {
   "codemirror_mode": {
    "name": "ipython",
    "version": 3
   },
   "file_extension": ".py",
   "mimetype": "text/x-python",
   "name": "python",
   "nbconvert_exporter": "python",
   "pygments_lexer": "ipython3",
   "version": "3.10.6"
  },
  "toc": {
   "base_numbering": 1,
   "nav_menu": {},
   "number_sections": true,
   "sideBar": true,
   "skip_h1_title": false,
   "title_cell": "Table of Contents",
   "title_sidebar": "Contents",
   "toc_cell": false,
   "toc_position": {},
   "toc_section_display": true,
   "toc_window_display": false
  }
 },
 "nbformat": 4,
 "nbformat_minor": 5
}
