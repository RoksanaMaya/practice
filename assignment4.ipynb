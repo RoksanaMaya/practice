{
 "cells": [
  {
   "cell_type": "markdown",
   "metadata": {},
   "source": [
    "# Swap  Numbers\n",
    "-   input: 4 5   \n",
    "-   output: x=5, y=4"
   ]
  },
  {
   "cell_type": "code",
   "execution_count": 3,
   "metadata": {},
   "outputs": [
    {
     "name": "stdout",
     "output_type": "stream",
     "text": [
      "x= 5 y= 4\n"
     ]
    }
   ],
   "source": [
    "x=4\n",
    "y=5\n",
    "z=x\n",
    "x=y\n",
    "y=z\n",
    "\n",
    "print('x=',x,'y=',y)"
   ]
  },
  {
   "cell_type": "code",
   "execution_count": null,
   "metadata": {},
   "outputs": [],
   "source": []
  },
  {
   "cell_type": "markdown",
   "metadata": {},
   "source": [
    "# Access elements from the given list"
   ]
  },
  {
   "cell_type": "code",
   "execution_count": 9,
   "metadata": {},
   "outputs": [
    {
     "name": "stdout",
     "output_type": "stream",
     "text": [
      "3\n",
      "[3, 2, 5, 1, 6]\n",
      "[5, 1, 6, 8]\n",
      "3\n",
      "2\n",
      "5\n",
      "1\n",
      "6\n",
      "8\n",
      "9\n",
      "7\n"
     ]
    }
   ],
   "source": [
    "#code here\n",
    "nums = [3,2,5,1,6,8,9,7]\n",
    "print(nums[0])\n",
    "print(nums[:5])\n",
    "print(nums[2:6])\n",
    "#OR\n",
    "for i in nums:\n",
    "    print(i)\n",
    "\n",
    "\n"
   ]
  },
  {
   "cell_type": "code",
   "execution_count": null,
   "metadata": {},
   "outputs": [],
   "source": []
  },
  {
   "cell_type": "code",
   "execution_count": null,
   "metadata": {},
   "outputs": [],
   "source": []
  },
  {
   "cell_type": "markdown",
   "metadata": {},
   "source": [
    "# Fibonacci series\n",
    "-   input: 6\n",
    "-   output: 0 1 1 2 3 5"
   ]
  },
  {
   "cell_type": "code",
   "execution_count": 34,
   "metadata": {},
   "outputs": [
    {
     "data": {
      "text/plain": [
       "[0, 1, 1, 2, 3, 5]"
      ]
     },
     "execution_count": 34,
     "metadata": {},
     "output_type": "execute_result"
    }
   ],
   "source": [
    "def fib(n):\n",
    "    fib=[0,1]\n",
    "    for i in range (3,n+1):\n",
    "        next_num=fib[-1]+fib[-2]    \n",
    "        fib.append(next_num)\n",
    "    return fib\n",
    "input=6\n",
    "fib(input)"
   ]
  },
  {
   "cell_type": "code",
   "execution_count": null,
   "metadata": {},
   "outputs": [],
   "source": []
  },
  {
   "cell_type": "code",
   "execution_count": null,
   "metadata": {},
   "outputs": [],
   "source": []
  },
  {
   "cell_type": "markdown",
   "metadata": {},
   "source": [
    "# Factorial of number\n",
    "-   input: 5\n",
    "-   output: 120"
   ]
  },
  {
   "cell_type": "code",
   "execution_count": 18,
   "metadata": {},
   "outputs": [
    {
     "name": "stdout",
     "output_type": "stream",
     "text": [
      "120\n"
     ]
    }
   ],
   "source": [
    "def fac(n):\n",
    "    fact=1\n",
    "    for i in range(1,n+1):\n",
    "        fact=fact*i\n",
    "    return fact\n",
    "input=5\n",
    "print(fac(input))"
   ]
  },
  {
   "cell_type": "code",
   "execution_count": null,
   "metadata": {},
   "outputs": [],
   "source": []
  },
  {
   "cell_type": "markdown",
   "metadata": {},
   "source": [
    "# Armstrong number \n",
    "-   input: 153\n",
    "-   output: Armstrong Number\n",
    "-   Explanation: 1^3 + 5^3 + 3^3 == 153,   why power of 3, coz of 3 digit"
   ]
  },
  {
   "cell_type": "code",
   "execution_count": null,
   "metadata": {},
   "outputs": [],
   "source": []
  },
  {
   "cell_type": "code",
   "execution_count": null,
   "metadata": {},
   "outputs": [],
   "source": []
  },
  {
   "cell_type": "markdown",
   "metadata": {},
   "source": [
    "# Palindrome of a String\n",
    "-   input : aba\n",
    "-   output: Palindrome\n",
    "-   Explanation: reverese of \"aba\" is equals to \"aba\"\n",
    " "
   ]
  },
  {
   "cell_type": "code",
   "execution_count": 38,
   "metadata": {},
   "outputs": [
    {
     "data": {
      "text/plain": [
       "'Palindrome'"
      ]
     },
     "execution_count": 38,
     "metadata": {},
     "output_type": "execute_result"
    }
   ],
   "source": [
    "def reverse(n):\n",
    "    reverse=\"\"\n",
    "    for i in n:\n",
    "        reverse=i+reverse\n",
    "    return reverse\n",
    "\n",
    "def is_palindrom(input):\n",
    "    if input ==reverse(input):\n",
    "        return \"Palindrome\"\n",
    "    else:\n",
    "        return 'Not Palindrome'\n",
    "    \n",
    "input='aba'\n",
    "is_palindrom(input)"
   ]
  },
  {
   "cell_type": "code",
   "execution_count": null,
   "metadata": {},
   "outputs": [],
   "source": []
  },
  {
   "cell_type": "markdown",
   "metadata": {},
   "source": [
    "# Palindrome of a Number\n",
    "-   input : 121\n",
    "-   output: Palindrome\n",
    "-   Explanation: reverese of 121 is equals to 121\n",
    " "
   ]
  },
  {
   "cell_type": "code",
   "execution_count": 3,
   "metadata": {},
   "outputs": [
    {
     "data": {
      "text/plain": [
       "'Palindrome'"
      ]
     },
     "execution_count": 3,
     "metadata": {},
     "output_type": "execute_result"
    }
   ],
   "source": [
    "def reverse(n):\n",
    "    reverse=\"\"\n",
    "    for i in n:\n",
    "        reverse=i+reverse\n",
    "    return reverse\n",
    "def is_palindrom(input):\n",
    "    if input ==reverse(input):\n",
    "        return \"Palindrome\"\n",
    "    else:\n",
    "        return 'Not Palindrome'\n",
    "    \n",
    "input=121\n",
    "int_to_str=str(input)\n",
    "is_palindrom(int_to_str)\n"
   ]
  },
  {
   "cell_type": "code",
   "execution_count": null,
   "metadata": {},
   "outputs": [],
   "source": []
  },
  {
   "cell_type": "markdown",
   "metadata": {},
   "source": [
    "# Smallest number in list \n",
    "-   input : [3,2,1,4,6]\n",
    "-   output: 1"
   ]
  },
  {
   "cell_type": "code",
   "execution_count": 3,
   "metadata": {},
   "outputs": [
    {
     "data": {
      "text/plain": [
       "0"
      ]
     },
     "execution_count": 3,
     "metadata": {},
     "output_type": "execute_result"
    }
   ],
   "source": [
    "list=[3,2,1,4,6,2,0,11]\n",
    "sort_list=sorted(list)\n",
    "sort_list[0]\n",
    "\n",
    "\n",
    "#OR\n",
    "for i in range (1,len(list)):\n",
    "    if list[i]<list[i-1]:\n",
    "        smallest=list[i]\n",
    "smallest\n",
    "\n",
    "#OR\n",
    "min=list[0]\n",
    "for num in list:\n",
    "    if num<min :\n",
    "        min=num\n",
    "min"
   ]
  },
  {
   "cell_type": "markdown",
   "metadata": {},
   "source": [
    "# Second smallest in the list\n",
    "-   input : [3,2,1,4,6]\n",
    "-   output: 2"
   ]
  },
  {
   "cell_type": "code",
   "execution_count": 21,
   "metadata": {},
   "outputs": [
    {
     "data": {
      "text/plain": [
       "2"
      ]
     },
     "execution_count": 21,
     "metadata": {},
     "output_type": "execute_result"
    }
   ],
   "source": [
    "list=[3,2,1,4,6]\n",
    "sort_list=sorted(list)\n",
    "sort_list[1]"
   ]
  },
  {
   "cell_type": "markdown",
   "metadata": {},
   "source": [
    "# Prime Number\n",
    "-   input : 5\n",
    "-   output: Prime\n",
    "-   Explanation: 5 is only divisible by 1 and 5\n",
    "-   input : 4\n",
    "-   output: Not a Prime\n",
    "-   Explanation: 4 is not only divisible by 1 and 4, also divisible by 2 that's why Not a Prime"
   ]
  },
  {
   "cell_type": "code",
   "execution_count": 1,
   "metadata": {},
   "outputs": [
    {
     "data": {
      "text/plain": [
       "(9, 'is a prime number')"
      ]
     },
     "execution_count": 1,
     "metadata": {},
     "output_type": "execute_result"
    }
   ],
   "source": [
    "def is_prime(n):\n",
    "\n",
    "    for i in range (2,n):\n",
    "        if n%i !=0:\n",
    "            return n, \"is a prime number\"\n",
    "        else:\n",
    "            return n, \"is not prime number\"\n",
    "\n",
    "input=int(input(\"Enter a number: \"))\n",
    "is_prime(input)\n"
   ]
  },
  {
   "cell_type": "code",
   "execution_count": 4,
   "metadata": {},
   "outputs": [
    {
     "name": "stdout",
     "output_type": "stream",
     "text": [
      "4  is  a prime number\n"
     ]
    }
   ],
   "source": [
    "num=int(input(\"Enter a number: \"))\n",
    "if num==1:\n",
    "    print (num,\" is not a prime number\")\n",
    "else:\n",
    "    for i in range (2,num):\n",
    "        if num%i !=0:\n",
    "            print(num,\" is  a prime number\")\n",
    "            break\n",
    "    else:\n",
    "        print (num,\" is not a prime number\")\n",
    "       "
   ]
  },
  {
   "cell_type": "markdown",
   "metadata": {},
   "source": [
    "# Prime number that works best"
   ]
  },
  {
   "cell_type": "code",
   "execution_count": 15,
   "metadata": {},
   "outputs": [
    {
     "name": "stdout",
     "output_type": "stream",
     "text": [
      "2  is  a prime number\n"
     ]
    }
   ],
   "source": [
    "num=int(input(\"Enter a number: \"))\n",
    "if num==1:\n",
    "    print(num,\" is  not a prime number\")\n",
    "else:\n",
    "    for i in range (2,num):\n",
    "        if num%i ==0:\n",
    "            print(num,\" is  not a prime number\")\n",
    "            break\n",
    "    else:\n",
    "        print (num,\" is  a prime number\")\n",
    "            "
   ]
  },
  {
   "cell_type": "markdown",
   "metadata": {},
   "source": [
    "# Print Given Pattern for a Number\n"
   ]
  },
  {
   "cell_type": "code",
   "execution_count": 1,
   "metadata": {},
   "outputs": [],
   "source": [
    "# - input : 3\n",
    "# - output: \n",
    "# *\n",
    "# * *\n",
    "# * * *\n",
    "\n",
    "# - input : 4\n",
    "# - output: \n",
    "# *\n",
    "# * *\n",
    "# * * *\n",
    "# * * * *"
   ]
  },
  {
   "cell_type": "code",
   "execution_count": 1,
   "metadata": {},
   "outputs": [
    {
     "name": "stdout",
     "output_type": "stream",
     "text": [
      "\n",
      "*\n",
      "**\n",
      "***\n"
     ]
    }
   ],
   "source": [
    "input=int(input('Enter the number : '))\n",
    "for i in range (input+1):\n",
    "    print(i*'*')"
   ]
  },
  {
   "cell_type": "code",
   "execution_count": null,
   "metadata": {},
   "outputs": [],
   "source": []
  },
  {
   "cell_type": "code",
   "execution_count": null,
   "metadata": {},
   "outputs": [],
   "source": []
  },
  {
   "cell_type": "code",
   "execution_count": 1,
   "metadata": {},
   "outputs": [],
   "source": [
    "#  happy solving :)"
   ]
  }
 ],
 "metadata": {
  "kernelspec": {
   "display_name": "Python 3 (ipykernel)",
   "language": "python",
   "name": "python3"
  },
  "language_info": {
   "codemirror_mode": {
    "name": "ipython",
    "version": 3
   },
   "file_extension": ".py",
   "mimetype": "text/x-python",
   "name": "python",
   "nbconvert_exporter": "python",
   "pygments_lexer": "ipython3",
   "version": "3.10.6"
  },
  "toc": {
   "base_numbering": 1,
   "nav_menu": {},
   "number_sections": true,
   "sideBar": true,
   "skip_h1_title": false,
   "title_cell": "Table of Contents",
   "title_sidebar": "Contents",
   "toc_cell": false,
   "toc_position": {},
   "toc_section_display": true,
   "toc_window_display": false
  }
 },
 "nbformat": 4,
 "nbformat_minor": 2
}
