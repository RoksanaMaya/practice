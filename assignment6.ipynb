{
 "cells": [
  {
   "cell_type": "markdown",
   "id": "a9627626",
   "metadata": {},
   "source": [
    "**Write function to Search and return index positions of a given elements**\n",
    "\n",
    "`input: data = [1,2,3,2,4,22,2,7,6]\n",
    " Function: SearchOccurences(data, 2)\n",
    " output: [1, 3, 6]\n",
    "`"
   ]
  },
  {
   "cell_type": "code",
   "execution_count": 3,
   "id": "e86b5600",
   "metadata": {},
   "outputs": [
    {
     "name": "stdout",
     "output_type": "stream",
     "text": [
      "[1, 3, 6]\n"
     ]
    }
   ],
   "source": [
    "def SearchOccurences(data, element):\n",
    "    indices=[]\n",
    "    for index, value in enumerate(data): \n",
    "        if value == element:\n",
    "            indices.append(index)\n",
    "    return indices\n",
    "data = [1, 2, 3, 2, 4, 22, 2, 7, 6]\n",
    "result = SearchOccurences(data, 2)\n",
    "print(result)"
   ]
  },
  {
   "cell_type": "markdown",
   "id": "7edc6c61",
   "metadata": {},
   "source": [
    "**Write a function to return list True where a given element is present, if not present False**\n",
    "\n",
    "`input: data = [1,2,3,2,4,22,2,7,6]\n",
    " Function: SearchPresence(data, 2)\n",
    " output: [False, True, False, True, False, False, True, False, False,]\n",
    "`|"
   ]
  },
  {
   "cell_type": "code",
   "execution_count": 8,
   "id": "efe19ecf",
   "metadata": {},
   "outputs": [
    {
     "name": "stdout",
     "output_type": "stream",
     "text": [
      "['False', 'True', 'False', 'True', 'False', 'False', 'True', 'False', 'False']\n"
     ]
    }
   ],
   "source": [
    "def SearchPresence(data, element):\n",
    "    result = []\n",
    "    for item in data:\n",
    "        if item == element:\n",
    "            result.append(\"True\")\n",
    "        else:\n",
    "            result.append(\"False\")\n",
    "    return result\n",
    "\n",
    "data = [1, 2, 3, 2, 4, 22, 2, 7, 6]\n",
    "output = SearchPresence(data, 2)\n",
    "print(output)"
   ]
  },
  {
   "cell_type": "code",
   "execution_count": null,
   "id": "86f1a44d",
   "metadata": {},
   "outputs": [],
   "source": []
  },
  {
   "cell_type": "markdown",
   "id": "5e3f3ef3",
   "metadata": {},
   "source": [
    "**Write a function to Find adjacent Repeatation: Adjacent group (where previous indesx value is same as current index value**\n",
    "\n",
    "`input: data = [1 , 1, 3, 4, 2, 2, 2, 7, 6]\n",
    " Function: SearchAdjacentRepeatation(data, 2)\n",
    " output: [False, True, False, False, False, True, True, False, False,]\n",
    "`|"
   ]
  },
  {
   "cell_type": "code",
   "execution_count": 17,
   "id": "16f6c85c",
   "metadata": {},
   "outputs": [
    {
     "name": "stdout",
     "output_type": "stream",
     "text": [
      "['False', 'True', 'False', 'False', 'False', 'True', 'True', 'False', 'False']\n"
     ]
    }
   ],
   "source": [
    "def SearchPresence(data):\n",
    "    result = []\n",
    "    for i in range (0,len(data)):\n",
    "        if data[i]==data[i-1]:\n",
    "            result.append(\"True\")\n",
    "        else:\n",
    "            result.append(\"False\")\n",
    "    return result\n",
    "\n",
    "data = [1 , 1, 3, 4, 2, 2, 2, 7, 6]\n",
    "output = SearchPresence(data)\n",
    "print(output)"
   ]
  },
  {
   "cell_type": "code",
   "execution_count": null,
   "id": "2b74249a",
   "metadata": {},
   "outputs": [],
   "source": []
  },
  {
   "cell_type": "code",
   "execution_count": null,
   "id": "0273fdbd",
   "metadata": {},
   "outputs": [],
   "source": []
  },
  {
   "cell_type": "code",
   "execution_count": null,
   "id": "e0314b5a",
   "metadata": {},
   "outputs": [],
   "source": []
  }
 ],
 "metadata": {
  "kernelspec": {
   "display_name": "Python 3 (ipykernel)",
   "language": "python",
   "name": "python3"
  },
  "language_info": {
   "codemirror_mode": {
    "name": "ipython",
    "version": 3
   },
   "file_extension": ".py",
   "mimetype": "text/x-python",
   "name": "python",
   "nbconvert_exporter": "python",
   "pygments_lexer": "ipython3",
   "version": "3.10.6"
  }
 },
 "nbformat": 4,
 "nbformat_minor": 5
}
