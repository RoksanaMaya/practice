{
 "cells": [
  {
   "cell_type": "markdown",
   "metadata": {},
   "source": [
    "# Create a function that takes a list of integers as input and returns the sum of all the even numbers in the list."
   ]
  },
  {
   "cell_type": "code",
   "execution_count": 12,
   "metadata": {},
   "outputs": [
    {
     "data": {
      "text/plain": [
       "12"
      ]
     },
     "execution_count": 12,
     "metadata": {},
     "output_type": "execute_result"
    }
   ],
   "source": [
    "def sum(list_data):\n",
    "    sum=0\n",
    "    for item in list_data:\n",
    "        if item%2==0:\n",
    "            sum=item+sum\n",
    "    return sum\n",
    "\n",
    "\n",
    "def data_input (input):\n",
    "    data=input(\"Enter a list of numbers separated by spaces:\").split()\n",
    "    data=[int(x) for x in data]\n",
    "    return data\n",
    "\n",
    "list_data=data_input (input)\n",
    "sum(list_data)\n"
   ]
  },
  {
   "cell_type": "code",
   "execution_count": null,
   "metadata": {},
   "outputs": [],
   "source": []
  },
  {
   "cell_type": "markdown",
   "metadata": {},
   "source": [
    "# Implement a function that takes a string as input and returns a new string where all the vowels are replaced with asterisks (*)."
   ]
  },
  {
   "cell_type": "code",
   "execution_count": 21,
   "metadata": {},
   "outputs": [
    {
     "name": "stdout",
     "output_type": "stream",
     "text": [
      "*bcd*****\n"
     ]
    }
   ],
   "source": [
    "def replace_vowels_with_asterisks(input_string):\n",
    "    vowels = \"aeiouAEIOU\"\n",
    "    result = ''.join(['*' if char in vowels else char for char in input_string])\n",
    "    return result\n",
    "\n",
    "input_string = input(\"Enter a string: \")\n",
    "output_string = replace_vowels_with_asterisks(input_string)\n",
    "print(output_string)"
   ]
  },
  {
   "cell_type": "code",
   "execution_count": 2,
   "metadata": {},
   "outputs": [
    {
     "data": {
      "text/plain": [
       "'*bc****'"
      ]
     },
     "execution_count": 2,
     "metadata": {},
     "output_type": "execute_result"
    }
   ],
   "source": [
    "def data_input (i_string):\n",
    "    l_string=i_string.lower()\n",
    "    vowels='aeiou'\n",
    "    for x in l_string:\n",
    "        if x in vowels:\n",
    "           l_string= l_string.replace(x,'*')\n",
    "    return l_string\n",
    "\n",
    "i_string=input(\"Enter a string :\")\n",
    "output=data_input (i_string)  \n",
    "output"
   ]
  },
  {
   "cell_type": "markdown",
   "metadata": {},
   "source": []
  },
  {
   "cell_type": "code",
   "execution_count": null,
   "metadata": {},
   "outputs": [],
   "source": []
  },
  {
   "cell_type": "markdown",
   "metadata": {},
   "source": [
    "# Create a function that takes a list of strings as input and returns a new list where each string is reversed."
   ]
  },
  {
   "cell_type": "code",
   "execution_count": null,
   "metadata": {},
   "outputs": [],
   "source": [
    "['Python', 'Java']"
   ]
  },
  {
   "cell_type": "code",
   "execution_count": 8,
   "metadata": {},
   "outputs": [
    {
     "data": {
      "text/plain": [
       "['ayam', 'oybak', 'sba', 'yrt']"
      ]
     },
     "execution_count": 8,
     "metadata": {},
     "output_type": "execute_result"
    }
   ],
   "source": [
    "def reverse(input_str):\n",
    "    output=[]\n",
    "    for i in input_str:\n",
    "        reverse=''\n",
    "        for x in i:\n",
    "            reverse=x+reverse\n",
    "        output.append(reverse)       \n",
    "    return output\n",
    "\n",
    "input_str=input(\"Enter space after each word : \").split()\n",
    "reverse(input_str)"
   ]
  },
  {
   "cell_type": "code",
   "execution_count": 9,
   "metadata": {},
   "outputs": [
    {
     "name": "stdout",
     "output_type": "stream",
     "text": [
      "['nohtyP', 'avaJ']\n"
     ]
    }
   ],
   "source": [
    "# From online\n",
    "def reverse_strings(input_list):\n",
    "    return [string[::-1] for string in input_list]\n",
    "\n",
    "input_list = ['Python', 'Java']\n",
    "output_list = reverse_strings(input_list)\n",
    "print(output_list)"
   ]
  },
  {
   "cell_type": "markdown",
   "metadata": {},
   "source": [
    "# Create a function that takes a list of dictionaries as input and returns a new list containing only the dictionaries that have a \"name\" key and whose value is longer than 5 characters."
   ]
  },
  {
   "cell_type": "code",
   "execution_count": 10,
   "metadata": {},
   "outputs": [],
   "source": [
    "data = [{'name': 'john smith', 'age':24}, {'name': 'Tessa Sott', 'age':24}, {'age':34}]"
   ]
  },
  {
   "cell_type": "code",
   "execution_count": null,
   "metadata": {},
   "outputs": [],
   "source": [
    "def getNameDict(data: list[dict]) -> list[dict]: # why do I need list[dict]\n",
    "    new = []\n",
    "    for dictionary in data:\n",
    "        if 'name' in dictionary.keys() and len(dictionary['name']) > 5:\n",
    "            new.append(dictionary)\n",
    "    return new"
   ]
  },
  {
   "cell_type": "code",
   "execution_count": 11,
   "metadata": {},
   "outputs": [],
   "source": [
    "def getNameDict(data):\n",
    "    new = []\n",
    "    for dictionary in data:\n",
    "        if 'name' in dictionary.keys() and len(dictionary['name']) > 5:\n",
    "            new.append(dictionary)\n",
    "    return new"
   ]
  },
  {
   "cell_type": "code",
   "execution_count": 11,
   "metadata": {},
   "outputs": [
    {
     "data": {
      "text/plain": [
       "[{'name': 'john smith', 'age': 24}, {'name': 'Tessa Sott', 'age': 24}]"
      ]
     },
     "execution_count": 11,
     "metadata": {},
     "output_type": "execute_result"
    }
   ],
   "source": [
    "getNameDict(data)"
   ]
  },
  {
   "cell_type": "code",
   "execution_count": 13,
   "metadata": {},
   "outputs": [
    {
     "name": "stdout",
     "output_type": "stream",
     "text": [
      "name\n",
      "John\n",
      "age\n",
      "56\n",
      "Tessa\n",
      "SCott\n",
      "age\n",
      "77\n"
     ]
    }
   ],
   "source": [
    "data = []\n",
    "n = 2\n",
    "for i in range(n):\n",
    "    d = {input(): input() for j in range(n) }\n",
    "    data.append(d)"
   ]
  },
  {
   "cell_type": "code",
   "execution_count": 14,
   "metadata": {},
   "outputs": [
    {
     "data": {
      "text/plain": [
       "[{'Tessa': 'SCott', 'age': '77'}]"
      ]
     },
     "execution_count": 14,
     "metadata": {},
     "output_type": "execute_result"
    }
   ],
   "source": [
    "data"
   ]
  },
  {
   "cell_type": "markdown",
   "metadata": {},
   "source": [
    "# Create a function that takes a string as input and returns a frequencies of each word"
   ]
  },
  {
   "cell_type": "code",
   "execution_count": 21,
   "metadata": {},
   "outputs": [
    {
     "name": "stdout",
     "output_type": "stream",
     "text": [
      "{'abc': 2, 'wer': 1}\n"
     ]
    }
   ],
   "source": [
    "def word_frequencies(input_string):\n",
    "    words = input_string.split()\n",
    "    freq_dict = {}\n",
    "    \n",
    "    for word in words:\n",
    "        freq_dict[word] = freq_dict.get(word, 0) + 1\n",
    "    \n",
    "    return freq_dict\n",
    "\n",
    "input_string = input(\"Enter a string: \")\n",
    "frequency_dict = word_frequencies(input_string)\n",
    "print(frequency_dict)"
   ]
  },
  {
   "cell_type": "markdown",
   "metadata": {},
   "source": [
    "# Group Anagram"
   ]
  },
  {
   "cell_type": "code",
   "execution_count": 20,
   "metadata": {},
   "outputs": [
    {
     "name": "stdout",
     "output_type": "stream",
     "text": [
      "{'aet': ['eat', 'tea', 'ate'], 'ant': ['tan', 'nat'], 'abt': ['bat']}\n",
      "[['eat', 'tea', 'ate'], ['tan', 'nat'], ['bat']]\n"
     ]
    }
   ],
   "source": [
    "strs = [\"eat\",\"tea\",\"tan\",\"ate\",\"nat\",\"bat\"]\n",
    "dic={}\n",
    "for i in strs:\n",
    "    w=\"\".join(sorted(i))\n",
    "    if w in dic:\n",
    "        dic[w].append(i)\n",
    "    else: \n",
    "        dic[w]=[i]\n",
    "print(dic)\n",
    "print(list(dic.values()))"
   ]
  },
  {
   "cell_type": "markdown",
   "metadata": {},
   "source": [
    "# happy solving :)"
   ]
  }
 ],
 "metadata": {
  "kernelspec": {
   "display_name": "Python 3 (ipykernel)",
   "language": "python",
   "name": "python3"
  },
  "language_info": {
   "codemirror_mode": {
    "name": "ipython",
    "version": 3
   },
   "file_extension": ".py",
   "mimetype": "text/x-python",
   "name": "python",
   "nbconvert_exporter": "python",
   "pygments_lexer": "ipython3",
   "version": "3.10.6"
  },
  "toc": {
   "base_numbering": 1,
   "nav_menu": {},
   "number_sections": true,
   "sideBar": true,
   "skip_h1_title": false,
   "title_cell": "Table of Contents",
   "title_sidebar": "Contents",
   "toc_cell": false,
   "toc_position": {},
   "toc_section_display": true,
   "toc_window_display": false
  }
 },
 "nbformat": 4,
 "nbformat_minor": 2
}
